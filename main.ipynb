{
 "cells": [
  {
   "cell_type": "markdown",
   "metadata": {},
   "source": [
    "# Desafio 1\n",
    "\n",
    "Para esse desafio, vamos trabalhar com o data set [Black Friday](https://www.kaggle.com/mehdidag/black-friday), que reúne dados sobre transações de compras em uma loja de varejo.\n",
    "\n",
    "Vamos utilizá-lo para praticar a exploração de data sets utilizando pandas. Você pode fazer toda análise neste mesmo notebook, mas as resposta devem estar nos locais indicados."
   ]
  },
  {
   "cell_type": "markdown",
   "metadata": {},
   "source": [
    "## _Set up_ da análise"
   ]
  },
  {
   "cell_type": "code",
   "execution_count": 1,
   "metadata": {},
   "outputs": [],
   "source": [
    "import pandas as pd\n",
    "import numpy as np\n",
    "from sklearn import preprocessing"
   ]
  },
  {
   "cell_type": "code",
   "execution_count": 2,
   "metadata": {},
   "outputs": [],
   "source": [
    "black_friday = pd.read_csv(\"black_friday.csv\")"
   ]
  },
  {
   "cell_type": "markdown",
   "metadata": {},
   "source": [
    "## Inicie sua análise a partir daqui"
   ]
  },
  {
   "cell_type": "markdown",
   "metadata": {},
   "source": [
    "O data set <b>black_friday</b> é uma disponibilização da Analytics Vidhya acessível através do Kaggle. Segundo a plataforma da Codenation, o data set traz algumas variáveis relativas à transações comerciais realizadas durante a Black Friday em uma determinada loja de varejo. Cada observação é relativa a um determinado item comprado por um usuário. O objetivo deste documento não é explorar os dados do dataframe, mas sim responder as questões propostas pelo desafio 1 do <b>ACELERADEV Data Science</b>. Portanto, não houve qualquer alteração no documento, exceto a complementação com as respostas necessárias para cada questão."
   ]
  },
  {
   "cell_type": "code",
   "execution_count": 12,
   "metadata": {},
   "outputs": [
    {
     "data": {
      "text/html": [
       "<div>\n",
       "<style scoped>\n",
       "    .dataframe tbody tr th:only-of-type {\n",
       "        vertical-align: middle;\n",
       "    }\n",
       "\n",
       "    .dataframe tbody tr th {\n",
       "        vertical-align: top;\n",
       "    }\n",
       "\n",
       "    .dataframe thead th {\n",
       "        text-align: right;\n",
       "    }\n",
       "</style>\n",
       "<table border=\"1\" class=\"dataframe\">\n",
       "  <thead>\n",
       "    <tr style=\"text-align: right;\">\n",
       "      <th></th>\n",
       "      <th>User_ID</th>\n",
       "      <th>Product_ID</th>\n",
       "      <th>Gender</th>\n",
       "      <th>Age</th>\n",
       "      <th>Occupation</th>\n",
       "      <th>City_Category</th>\n",
       "      <th>Stay_In_Current_City_Years</th>\n",
       "      <th>Marital_Status</th>\n",
       "      <th>Product_Category_1</th>\n",
       "      <th>Product_Category_2</th>\n",
       "      <th>Product_Category_3</th>\n",
       "      <th>Purchase</th>\n",
       "    </tr>\n",
       "  </thead>\n",
       "  <tbody>\n",
       "    <tr>\n",
       "      <th>0</th>\n",
       "      <td>1000001</td>\n",
       "      <td>P00069042</td>\n",
       "      <td>F</td>\n",
       "      <td>0-17</td>\n",
       "      <td>10</td>\n",
       "      <td>A</td>\n",
       "      <td>2</td>\n",
       "      <td>0</td>\n",
       "      <td>3</td>\n",
       "      <td>NaN</td>\n",
       "      <td>NaN</td>\n",
       "      <td>8370</td>\n",
       "    </tr>\n",
       "    <tr>\n",
       "      <th>1</th>\n",
       "      <td>1000001</td>\n",
       "      <td>P00248942</td>\n",
       "      <td>F</td>\n",
       "      <td>0-17</td>\n",
       "      <td>10</td>\n",
       "      <td>A</td>\n",
       "      <td>2</td>\n",
       "      <td>0</td>\n",
       "      <td>1</td>\n",
       "      <td>6.0</td>\n",
       "      <td>14.0</td>\n",
       "      <td>15200</td>\n",
       "    </tr>\n",
       "    <tr>\n",
       "      <th>2</th>\n",
       "      <td>1000001</td>\n",
       "      <td>P00087842</td>\n",
       "      <td>F</td>\n",
       "      <td>0-17</td>\n",
       "      <td>10</td>\n",
       "      <td>A</td>\n",
       "      <td>2</td>\n",
       "      <td>0</td>\n",
       "      <td>12</td>\n",
       "      <td>NaN</td>\n",
       "      <td>NaN</td>\n",
       "      <td>1422</td>\n",
       "    </tr>\n",
       "  </tbody>\n",
       "</table>\n",
       "</div>"
      ],
      "text/plain": [
       "   User_ID Product_ID Gender   Age  Occupation City_Category  \\\n",
       "0  1000001  P00069042      F  0-17          10             A   \n",
       "1  1000001  P00248942      F  0-17          10             A   \n",
       "2  1000001  P00087842      F  0-17          10             A   \n",
       "\n",
       "  Stay_In_Current_City_Years  Marital_Status  Product_Category_1  \\\n",
       "0                          2               0                   3   \n",
       "1                          2               0                   1   \n",
       "2                          2               0                  12   \n",
       "\n",
       "   Product_Category_2  Product_Category_3  Purchase  \n",
       "0                 NaN                 NaN      8370  \n",
       "1                 6.0                14.0     15200  \n",
       "2                 NaN                 NaN      1422  "
      ]
     },
     "execution_count": 12,
     "metadata": {},
     "output_type": "execute_result"
    }
   ],
   "source": [
    "black_friday.head(3)"
   ]
  },
  {
   "cell_type": "markdown",
   "metadata": {},
   "source": [
    "## Questão 1\n",
    "\n",
    "Quantas observações e quantas colunas há no dataset? Responda no formato de uma tuple `(n_observacoes, n_colunas)`."
   ]
  },
  {
   "cell_type": "markdown",
   "metadata": {},
   "source": [
    "Este exercício poderia ser resolvido de duas formas, a primeira utilizando apenas o atributo <i>shape</i> que retornaria a quantidade de linhas e a quantidade de colunas do dataframe. Contudo, crei duas variáveis para que possamos ver que é possível mostrar separadamente a quantidade de linhas, através do indicador [0] e a quantidade de colunas com o indicador [1]. Por fim, foi reservado no atributo <i>tupla</i> o valor de ambos."
   ]
  },
  {
   "cell_type": "code",
   "execution_count": 3,
   "metadata": {},
   "outputs": [],
   "source": [
    "def q1():\n",
    "    n_observacoes = black_friday.shape[0]\n",
    "    n_colunas = black_friday.shape[1]\n",
    "    tupla = (n_observacoes, n_colunas)\n",
    "    return (tupla)"
   ]
  },
  {
   "cell_type": "markdown",
   "metadata": {},
   "source": [
    "## Questão 2\n",
    "\n",
    "Há quantas mulheres com idade entre 26 e 35 anos no dataset? Responda como um único escalar."
   ]
  },
  {
   "cell_type": "markdown",
   "metadata": {},
   "source": [
    "Novamente usamos o atributo <i>shape</i> para retornar a contagem de linhas, mas dessa vez precisamos de um filtro. Para isso, é usada a forma abaixo, que faz um \"corte\" dentro do dataframe, criando uma lista com True e False para todas as linhas que atendem as condições descritas, ou seja, mulheres entre 26-35 anos."
   ]
  },
  {
   "cell_type": "code",
   "execution_count": 4,
   "metadata": {},
   "outputs": [],
   "source": [
    "def q2():\n",
    "    return black_friday[(black_friday['Gender']=='F') & (black_friday['Age']=='26-35')].shape[0]"
   ]
  },
  {
   "cell_type": "markdown",
   "metadata": {},
   "source": [
    "## Questão 3\n",
    "\n",
    "Quantos usuários únicos há no dataset? Responda como um único escalar."
   ]
  },
  {
   "cell_type": "markdown",
   "metadata": {},
   "source": [
    "O método <i>nunique</i> provém da biblioteca do numpy (importada no início do código). Seu objetivo é contar quantos valores únicos há em um array. Usando como parâmetro a coluna \"User_ID\" é fácil descobrir quantos valores usuários únicos há."
   ]
  },
  {
   "cell_type": "code",
   "execution_count": 5,
   "metadata": {},
   "outputs": [],
   "source": [
    "def q3():\n",
    "    return int(black_friday[\"User_ID\"].nunique())"
   ]
  },
  {
   "cell_type": "markdown",
   "metadata": {},
   "source": [
    "## Questão 4\n",
    "\n",
    "Quantos tipos de dados diferentes existem no dataset? Responda como um único escalar."
   ]
  },
  {
   "cell_type": "markdown",
   "metadata": {},
   "source": [
    "Mais uma vez o método <i>unique</i> pode nos salvar. Dessa vez, é utilizado em conjunto com um recurso de outra biblioteca (pandas). O <i>dtypes</i> retorna quais são os tipos de dados existentes em um determinado conjunto de dados. Abaixo então vemos que, é selecionado os tipos (dtypes) únicos(nunique) do dataframe <i>black_friday</i> e para garantir que será um valor único escalar, utiliza-se o int no início."
   ]
  },
  {
   "cell_type": "code",
   "execution_count": 6,
   "metadata": {},
   "outputs": [],
   "source": [
    "def q4():\n",
    "    return int(black_friday.dtypes.nunique())   "
   ]
  },
  {
   "cell_type": "markdown",
   "metadata": {},
   "source": [
    "## Questão 5\n",
    "\n",
    "Qual porcentagem dos registros possui ao menos um valor null (`None`, `ǸaN` etc)? Responda como um único escalar entre 0 e 1."
   ]
  },
  {
   "cell_type": "markdown",
   "metadata": {},
   "source": [
    "O valor percentual de uma determinada ocorrência é calculado a partir de <b>x/total de casos</b>, onde x é o parâmetro utilizado (proposto pelo exercício). Vejamos, o <i>shape</i>, como já visto, faz uma contagem de linhas, enquanto que o <i>dropna</i> remove os valores faltantes. Podemos então utilizar a técnica da primeira questão, fazer um \"corte\" no nosso dataframe a partir deste filtro. Você deve estar se questionando \"mas isso não trará então o percentual dos valores preenchidos?\", por isso utiliza-se o <b>1-</b> no início da equação, ou seja, o valor complementar."
   ]
  },
  {
   "cell_type": "code",
   "execution_count": 7,
   "metadata": {},
   "outputs": [],
   "source": [
    "def q5():\n",
    "    percentual = 1-(black_friday.dropna().shape[0]/black_friday.shape[0])\n",
    "    return percentual"
   ]
  },
  {
   "cell_type": "markdown",
   "metadata": {},
   "source": [
    "## Questão 6\n",
    "\n",
    "Quantos valores null existem na variável (coluna) com o maior número de null? Responda como um único escalar."
   ]
  },
  {
   "cell_type": "markdown",
   "metadata": {},
   "source": [
    "<p align=\"justify\">Na fórmula abaixo temos uma série de métodos para resolver este problema. Se, por curiosidade, fizer o teste executando cada um dos métodos, um de cada vez, é possível perceber o filtro que cada método faz. Inicialmente o <i>isnull</i> identifica quais são os dados são nulos de forma booleana, então <i>sum</i> mostra a somatória dos nulls em cada variável e o <i>max</i> finalmente retorna qual é coluna possui mais dados nulos. Lembrando que essa forma é para alcançar o resultado pedido no exercício, porém, esses métodos podem ser executados de forma separa para outras finalidades.</p>"
   ]
  },
  {
   "cell_type": "code",
   "execution_count": 12,
   "metadata": {},
   "outputs": [],
   "source": [
    "def q6():\n",
    "    return black_friday.isnull().sum().max()"
   ]
  },
  {
   "cell_type": "markdown",
   "metadata": {},
   "source": [
    "## Questão 7\n",
    "\n",
    "Qual o valor mais frequente (sem contar nulls) em `Product_Category_3`? Responda como um único escalar."
   ]
  },
  {
   "cell_type": "markdown",
   "metadata": {},
   "source": [
    "Este exercício pode ser realizado a partir do que foi aplicado na questão 2, com o método <i>dropna</i>, recorta-se os valores faltantes. O que foi feito abaixo então:\n",
    "<li>Atribuiu-se um novo dataframe <b>bf</b> para não perder o dataframe anterior;\n",
    "<li>Utilizou-se o método <i>mode</i> que retorna qual é o valor mais frequente;\n",
    "<li>Mudou-se este retorno para inteiro, afim de retornar um único valor escalar.</li>\n",
    "Assim então, tem-se que o valor mais frequente é: 16"
   ]
  },
  {
   "cell_type": "code",
   "execution_count": 9,
   "metadata": {},
   "outputs": [],
   "source": [
    "def q7():\n",
    "    bf = black_friday.dropna()\n",
    "    return int(bf['Product_Category_3'].mode())"
   ]
  },
  {
   "cell_type": "markdown",
   "metadata": {},
   "source": [
    "## Questão 8\n",
    "\n",
    "Qual a nova média da variável (coluna) `Purchase` após sua normalização? Responda como um único escalar."
   ]
  },
  {
   "cell_type": "markdown",
   "metadata": {},
   "source": [
    "A normalização ajusta os valores que estão em diferentes medidas para uma escala fictícia comum, entre -1 e 1, onde resultados entre -1 e 0, representam que o valor puro era negativo.<br>\n",
    "Nas importações, é possível ver que além do pandas e numpy, também foi o <i>preprocessing</i> da biblioteca <i>sklearn</i>. Através dele é possível executar a normalização de forma mais prática.\n",
    "<li>Primeiro foi retornado como um array em <b>x</b> a coluna \"Purchase\"<li>Em seguida, o método <i>MinMaxScaler</i> transforma cada elemento, de modo que esteja no intervalo especificado no conjunto. Como não está estabelecido, por default ele considera entre 0 e 1.<li>Em <b>x_scaled</b> os dados são ajustados e transformados em um array\n",
    "<li>E por fim, é retornado a média deste array"
   ]
  },
  {
   "cell_type": "code",
   "execution_count": 10,
   "metadata": {},
   "outputs": [],
   "source": [
    "def q8():\n",
    "    x = black_friday['Purchase'].values #retorna um array\n",
    "    min_max_scaler = preprocessing.MinMaxScaler()\n",
    "    x_scaled = min_max_scaler.fit_transform(x.reshape(-1,1))\n",
    "    return x_scaled.mean()"
   ]
  },
  {
   "cell_type": "markdown",
   "metadata": {},
   "source": [
    "## Questão 9\n",
    "\n",
    "Quantas ocorrências entre -1 e 1 inclusive existem da variável `Purchase` após sua padronização? Responda como um único escalar."
   ]
  },
  {
   "cell_type": "markdown",
   "metadata": {},
   "source": [
    "A padronização consiste em subtrair de um valor de um conjunto de dados a sua média e dividir o resultado pelo desvio padrão do conjunto ou variável. Novamente, será utilizado recursos do <i>preprocessing</i>, mas agora quem irá nos auxiliar é o método <i>StandardScaler()</i> que faz a padronização de forma simples. Os passos são os seguintes:\n",
    "<li>Primeiro foi retornado como um array em <b>x</b> a coluna \"Purchase\" em y<li>Em seguida, o método <i>StandardScaler</i> transforma cada elemento<li>Em <b>y_scaled</b> os dados são ajustados e transformados em um array<li>Em <b>ocorrencias</b> é filtrado quais elementos estão entre -1 e 1<li>E então, é retornado o tamanho (pelo <i>len</i>) este valor único."
   ]
  },
  {
   "cell_type": "code",
   "execution_count": 1,
   "metadata": {},
   "outputs": [],
   "source": [
    "def q9():\n",
    "    from sklearn.preprocessing import StandardScaler\n",
    "    y = black_friday['Purchase'].values\n",
    "    standard = StandardScaler()\n",
    "    y_standard = standard.fit_transform(y.reshape(-1, 1))\n",
    "    ocorrencias = y_standard[(y_standard > -1) & (y_standard < 1)]\n",
    "    return len (ocorrencias)"
   ]
  },
  {
   "cell_type": "markdown",
   "metadata": {},
   "source": [
    "## Questão 10\n",
    "\n",
    "Podemos afirmar que se uma observação é null em `Product_Category_2` ela também é em `Product_Category_3`? Responda com um bool (`True`, `False`)."
   ]
  },
  {
   "cell_type": "markdown",
   "metadata": {},
   "source": [
    "Existem N formas para fazer essa comparação, uma delas é criando dois atributos auxiliares (<b>aux1</b> e <b>aux2</b>) que retorna valores booleanos, sendo True caso o elemento seja nulo e caso o contrário, o retorno é False. Depois basta comparar as linhas pelo <i>shape[0]</i> de aux1 e aux 2 para saber se são iguais, ou seja, se uma observação é null em `Product_Category_2` ela também é em `Product_Category_3`."
   ]
  },
  {
   "cell_type": "code",
   "execution_count": 10,
   "metadata": {},
   "outputs": [],
   "source": [
    "def q10():\n",
    "    aux1 = black_friday['Product_Category_2'].isnull()\n",
    "    aux2 = black_friday['Product_Category_3'].isnull()\n",
    "    return bool (aux1.shape[0] == aux2.shape[0])"
   ]
  },
  {
   "cell_type": "code",
   "execution_count": 11,
   "metadata": {},
   "outputs": [
    {
     "data": {
      "text/plain": [
       "True"
      ]
     },
     "execution_count": 11,
     "metadata": {},
     "output_type": "execute_result"
    }
   ],
   "source": [
    "q10()"
   ]
  }
 ],
 "metadata": {
  "kernelspec": {
   "display_name": "Python 3",
   "language": "python",
   "name": "python3"
  },
  "language_info": {
   "codemirror_mode": {
    "name": "ipython",
    "version": 3
   },
   "file_extension": ".py",
   "mimetype": "text/x-python",
   "name": "python",
   "nbconvert_exporter": "python",
   "pygments_lexer": "ipython3",
   "version": "3.7.6"
  }
 },
 "nbformat": 4,
 "nbformat_minor": 2
}
